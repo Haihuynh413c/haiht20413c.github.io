{
 "cells": [
  {
   "cell_type": "code",
   "execution_count": 39,
   "metadata": {},
   "outputs": [],
   "source": [
    "\n",
    "import pandas as pd\n",
    "import numpy as np\n",
    "\n",
    "import matplotlib.pyplot as plt\n",
    "import plotly.graph_objects as go\n",
    "from plotly.graph_objects import Scatter\n",
    "from plotly.offline import iplot, init_notebook_mode\n",
    "\n",
    "import plotly.express as px\n",
    "import plotly\n",
    "import ipywidgets as ipw\n",
    "import plotly.express as px\n",
    "import ipywidgets\n",
    "from ipywidgets import widgets\n",
    "\n"
   ]
  },
  {
   "cell_type": "code",
   "execution_count": 40,
   "metadata": {},
   "outputs": [],
   "source": [
    "ACB = pd.read_excel(\"DATA FINAL.xlsx\", sheet_name= \"ACB\")\n",
    "SCB = pd.read_excel(\"DATA FINAL.xlsx\", sheet_name= \"SCB\")\n",
    "BID = pd.read_excel(\"DATA FINAL.xlsx\", sheet_name= \"BIDV\")\n",
    "TPB = pd.read_excel(\"DATA FINAL.xlsx\", sheet_name= \"TPB\")\n",
    "VCB = pd.read_excel(\"DATA FINAL.xlsx\", sheet_name= \"VCB\")\n",
    "VTB = pd.read_excel(\"DATA FINAL.xlsx\", sheet_name= \"VTB\")"
   ]
  },
  {
   "cell_type": "code",
   "execution_count": 41,
   "metadata": {},
   "outputs": [],
   "source": [
    "Quarter= ['Q1/2019', 'Q2/2019', 'Q3/2019', 'Q4/2019', 'Q1/2020', 'Q2/2020', 'Q3/2020', 'Q4/2020', 'Q1/2021', 'Q2/2021']"
   ]
  },
  {
   "cell_type": "code",
   "execution_count": 42,
   "metadata": {},
   "outputs": [
    {
     "data": {
      "text/html": [
       "<div>\n",
       "<style scoped>\n",
       "    .dataframe tbody tr th:only-of-type {\n",
       "        vertical-align: middle;\n",
       "    }\n",
       "\n",
       "    .dataframe tbody tr th {\n",
       "        vertical-align: top;\n",
       "    }\n",
       "\n",
       "    .dataframe thead th {\n",
       "        text-align: right;\n",
       "    }\n",
       "</style>\n",
       "<table border=\"1\" class=\"dataframe\">\n",
       "  <thead>\n",
       "    <tr style=\"text-align: right;\">\n",
       "      <th></th>\n",
       "      <th>NV</th>\n",
       "      <th>VT</th>\n",
       "      <th>Q1/2019</th>\n",
       "      <th>Q2/2019</th>\n",
       "      <th>Q3/2019</th>\n",
       "      <th>Q4/2019</th>\n",
       "      <th>Q1/2020</th>\n",
       "      <th>Q2/2020</th>\n",
       "      <th>Q3/2020</th>\n",
       "      <th>Q4/2020</th>\n",
       "      <th>Q1/2021</th>\n",
       "      <th>Q2/2021</th>\n",
       "    </tr>\n",
       "  </thead>\n",
       "  <tbody>\n",
       "    <tr>\n",
       "      <th>0</th>\n",
       "      <td>Short-Term Assets</td>\n",
       "      <td>STA</td>\n",
       "      <td>3.252033e+14</td>\n",
       "      <td>3.408741e+14</td>\n",
       "      <td>3.475317e+14</td>\n",
       "      <td>3.723937e+14</td>\n",
       "      <td>3.771457e+14</td>\n",
       "      <td>3.872965e+14</td>\n",
       "      <td>4.084766e+14</td>\n",
       "      <td>4.334060e+14</td>\n",
       "      <td>4.382204e+14</td>\n",
       "      <td>4.604806e+14</td>\n",
       "    </tr>\n",
       "    <tr>\n",
       "      <th>1</th>\n",
       "      <td>Short-Term Liabilities</td>\n",
       "      <td>STL</td>\n",
       "      <td>3.134192e+14</td>\n",
       "      <td>3.271045e+14</td>\n",
       "      <td>3.328108e+14</td>\n",
       "      <td>3.557619e+14</td>\n",
       "      <td>3.579837e+14</td>\n",
       "      <td>3.659280e+14</td>\n",
       "      <td>3.858293e+14</td>\n",
       "      <td>4.090819e+14</td>\n",
       "      <td>4.115854e+14</td>\n",
       "      <td>4.308952e+14</td>\n",
       "    </tr>\n",
       "    <tr>\n",
       "      <th>2</th>\n",
       "      <td>Liquidity Ratio</td>\n",
       "      <td>LR</td>\n",
       "      <td>1.037599e+00</td>\n",
       "      <td>1.042096e+00</td>\n",
       "      <td>1.044232e+00</td>\n",
       "      <td>1.046750e+00</td>\n",
       "      <td>1.053528e+00</td>\n",
       "      <td>1.058395e+00</td>\n",
       "      <td>1.058698e+00</td>\n",
       "      <td>1.059460e+00</td>\n",
       "      <td>1.064713e+00</td>\n",
       "      <td>1.068660e+00</td>\n",
       "    </tr>\n",
       "    <tr>\n",
       "      <th>3</th>\n",
       "      <td>Equity</td>\n",
       "      <td>E</td>\n",
       "      <td>2.238344e+13</td>\n",
       "      <td>2.383370e+13</td>\n",
       "      <td>2.536431e+13</td>\n",
       "      <td>2.775251e+13</td>\n",
       "      <td>2.941236e+13</td>\n",
       "      <td>3.083244e+13</td>\n",
       "      <td>3.291897e+13</td>\n",
       "      <td>3.544816e+13</td>\n",
       "      <td>3.792934e+13</td>\n",
       "      <td>4.038024e+13</td>\n",
       "    </tr>\n",
       "    <tr>\n",
       "      <th>4</th>\n",
       "      <td>Assets</td>\n",
       "      <td>A</td>\n",
       "      <td>3.358026e+14</td>\n",
       "      <td>3.509382e+14</td>\n",
       "      <td>3.581751e+14</td>\n",
       "      <td>3.835144e+14</td>\n",
       "      <td>3.873961e+14</td>\n",
       "      <td>3.967604e+14</td>\n",
       "      <td>4.187483e+14</td>\n",
       "      <td>4.445301e+14</td>\n",
       "      <td>4.495147e+14</td>\n",
       "      <td>4.712754e+14</td>\n",
       "    </tr>\n",
       "    <tr>\n",
       "      <th>5</th>\n",
       "      <td>Equity/Assets</td>\n",
       "      <td>E/A</td>\n",
       "      <td>6.665655e-02</td>\n",
       "      <td>6.791426e-02</td>\n",
       "      <td>7.081539e-02</td>\n",
       "      <td>7.236366e-02</td>\n",
       "      <td>7.592324e-02</td>\n",
       "      <td>7.771049e-02</td>\n",
       "      <td>7.861278e-02</td>\n",
       "      <td>7.974300e-02</td>\n",
       "      <td>8.437840e-02</td>\n",
       "      <td>8.568290e-02</td>\n",
       "    </tr>\n",
       "    <tr>\n",
       "      <th>6</th>\n",
       "      <td>Substandard</td>\n",
       "      <td>S</td>\n",
       "      <td>2.331867e+11</td>\n",
       "      <td>2.464172e+11</td>\n",
       "      <td>2.520008e+11</td>\n",
       "      <td>2.649409e+11</td>\n",
       "      <td>2.707348e+11</td>\n",
       "      <td>2.787843e+11</td>\n",
       "      <td>2.919011e+11</td>\n",
       "      <td>3.064123e+11</td>\n",
       "      <td>3.174886e+11</td>\n",
       "      <td>3.347276e+11</td>\n",
       "    </tr>\n",
       "    <tr>\n",
       "      <th>7</th>\n",
       "      <td>Doubtful</td>\n",
       "      <td>D</td>\n",
       "      <td>2.032840e+08</td>\n",
       "      <td>2.063550e+08</td>\n",
       "      <td>2.253890e+08</td>\n",
       "      <td>3.108590e+08</td>\n",
       "      <td>3.858670e+08</td>\n",
       "      <td>5.097630e+08</td>\n",
       "      <td>5.434250e+08</td>\n",
       "      <td>4.112840e+08</td>\n",
       "      <td>7.989830e+08</td>\n",
       "      <td>5.287030e+08</td>\n",
       "    </tr>\n",
       "    <tr>\n",
       "      <th>8</th>\n",
       "      <td>Loss</td>\n",
       "      <td>L</td>\n",
       "      <td>1.287190e+09</td>\n",
       "      <td>1.225598e+09</td>\n",
       "      <td>1.190711e+06</td>\n",
       "      <td>9.031550e+08</td>\n",
       "      <td>9.643630e+08</td>\n",
       "      <td>1.060103e+09</td>\n",
       "      <td>1.105228e+09</td>\n",
       "      <td>1.216606e+09</td>\n",
       "      <td>1.858243e+09</td>\n",
       "      <td>1.240964e+09</td>\n",
       "    </tr>\n",
       "    <tr>\n",
       "      <th>9</th>\n",
       "      <td>Non Performing Loan</td>\n",
       "      <td>NPL</td>\n",
       "      <td>9.995138e-02</td>\n",
       "      <td>9.992721e-02</td>\n",
       "      <td>9.955968e-02</td>\n",
       "      <td>9.999625e-02</td>\n",
       "      <td>9.998153e-02</td>\n",
       "      <td>9.977361e-02</td>\n",
       "      <td>9.968663e-02</td>\n",
       "      <td>9.984169e-02</td>\n",
       "      <td>9.981009e-02</td>\n",
       "      <td>9.990193e-02</td>\n",
       "    </tr>\n",
       "    <tr>\n",
       "      <th>10</th>\n",
       "      <td>Earnings Before Taxes</td>\n",
       "      <td>EBT</td>\n",
       "      <td>1.706894e+12</td>\n",
       "      <td>1.915339e+12</td>\n",
       "      <td>1.938773e+12</td>\n",
       "      <td>1.954930e+12</td>\n",
       "      <td>1.924923e+12</td>\n",
       "      <td>1.894664e+12</td>\n",
       "      <td>2.591572e+12</td>\n",
       "      <td>3.184729e+12</td>\n",
       "      <td>3.104319e+12</td>\n",
       "      <td>3.248434e+12</td>\n",
       "    </tr>\n",
       "    <tr>\n",
       "      <th>11</th>\n",
       "      <td>Net Profit After Taxes</td>\n",
       "      <td>NPAT</td>\n",
       "      <td>1.365889e+12</td>\n",
       "      <td>1.532743e+12</td>\n",
       "      <td>1.549212e+12</td>\n",
       "      <td>1.549241e+12</td>\n",
       "      <td>1.537053e+12</td>\n",
       "      <td>1.521655e+12</td>\n",
       "      <td>2.074572e+12</td>\n",
       "      <td>2.549543e+12</td>\n",
       "      <td>2.483401e+12</td>\n",
       "      <td>2.588235e+12</td>\n",
       "    </tr>\n",
       "    <tr>\n",
       "      <th>12</th>\n",
       "      <td>Net Profit</td>\n",
       "      <td>NP</td>\n",
       "      <td>1.691233e+12</td>\n",
       "      <td>2.026495e+12</td>\n",
       "      <td>2.005239e+12</td>\n",
       "      <td>2.066790e+12</td>\n",
       "      <td>2.017589e+12</td>\n",
       "      <td>2.334194e+12</td>\n",
       "      <td>2.753568e+12</td>\n",
       "      <td>3.431690e+12</td>\n",
       "      <td>3.710080e+12</td>\n",
       "      <td>4.634679e+12</td>\n",
       "    </tr>\n",
       "    <tr>\n",
       "      <th>13</th>\n",
       "      <td>Loaons To customers</td>\n",
       "      <td>LTC</td>\n",
       "      <td>2.347914e+14</td>\n",
       "      <td>2.480297e+14</td>\n",
       "      <td>2.533429e+14</td>\n",
       "      <td>2.661649e+14</td>\n",
       "      <td>2.721353e+14</td>\n",
       "      <td>2.809903e+14</td>\n",
       "      <td>2.944725e+14</td>\n",
       "      <td>3.085286e+14</td>\n",
       "      <td>3.207550e+14</td>\n",
       "      <td>3.368276e+14</td>\n",
       "    </tr>\n",
       "    <tr>\n",
       "      <th>14</th>\n",
       "      <td>Credit Growth</td>\n",
       "      <td>CG</td>\n",
       "      <td>2.986326e+00</td>\n",
       "      <td>5.638325e+00</td>\n",
       "      <td>2.142186e+00</td>\n",
       "      <td>5.061096e+00</td>\n",
       "      <td>2.243139e+00</td>\n",
       "      <td>3.253888e+00</td>\n",
       "      <td>4.798120e+00</td>\n",
       "      <td>4.773314e+00</td>\n",
       "      <td>3.962798e+00</td>\n",
       "      <td>5.010880e+00</td>\n",
       "    </tr>\n",
       "    <tr>\n",
       "      <th>15</th>\n",
       "      <td>Loans To Customers</td>\n",
       "      <td>LTC</td>\n",
       "      <td>2.347914e+14</td>\n",
       "      <td>2.480297e+14</td>\n",
       "      <td>2.533429e+14</td>\n",
       "      <td>2.661649e+14</td>\n",
       "      <td>2.721353e+14</td>\n",
       "      <td>2.809903e+14</td>\n",
       "      <td>2.944725e+14</td>\n",
       "      <td>3.085286e+14</td>\n",
       "      <td>3.207550e+14</td>\n",
       "      <td>3.368276e+14</td>\n",
       "    </tr>\n",
       "    <tr>\n",
       "      <th>16</th>\n",
       "      <td>Return On Assets</td>\n",
       "      <td>ROA</td>\n",
       "      <td>4.067535e-03</td>\n",
       "      <td>4.367559e-03</td>\n",
       "      <td>4.325292e-03</td>\n",
       "      <td>4.039590e-03</td>\n",
       "      <td>3.967653e-03</td>\n",
       "      <td>3.835199e-03</td>\n",
       "      <td>4.954222e-03</td>\n",
       "      <td>5.735366e-03</td>\n",
       "      <td>5.524626e-03</td>\n",
       "      <td>5.491979e-03</td>\n",
       "    </tr>\n",
       "    <tr>\n",
       "      <th>17</th>\n",
       "      <td>Return On Equity</td>\n",
       "      <td>ROE</td>\n",
       "      <td>6.102229e-02</td>\n",
       "      <td>6.430989e-02</td>\n",
       "      <td>6.107842e-02</td>\n",
       "      <td>5.582346e-02</td>\n",
       "      <td>5.225874e-02</td>\n",
       "      <td>4.935239e-02</td>\n",
       "      <td>6.302057e-02</td>\n",
       "      <td>7.192313e-02</td>\n",
       "      <td>6.547441e-02</td>\n",
       "      <td>6.409657e-02</td>\n",
       "    </tr>\n",
       "    <tr>\n",
       "      <th>18</th>\n",
       "      <td>Total Operating Income</td>\n",
       "      <td>TOI</td>\n",
       "      <td>3.490162e+12</td>\n",
       "      <td>3.948649e+12</td>\n",
       "      <td>3.848856e+12</td>\n",
       "      <td>4.809686e+12</td>\n",
       "      <td>4.378224e+12</td>\n",
       "      <td>4.102100e+12</td>\n",
       "      <td>4.485580e+12</td>\n",
       "      <td>5.195405e+12</td>\n",
       "      <td>5.675377e+12</td>\n",
       "      <td>6.227217e+12</td>\n",
       "    </tr>\n",
       "    <tr>\n",
       "      <th>19</th>\n",
       "      <td>Due To Customers</td>\n",
       "      <td>DTC</td>\n",
       "      <td>9.209490e+12</td>\n",
       "      <td>7.775415e+12</td>\n",
       "      <td>5.973123e+12</td>\n",
       "      <td>1.042031e+13</td>\n",
       "      <td>1.267115e+13</td>\n",
       "      <td>2.081391e+13</td>\n",
       "      <td>1.228916e+13</td>\n",
       "      <td>1.661680e+13</td>\n",
       "      <td>2.023257e+13</td>\n",
       "      <td>2.191232e+13</td>\n",
       "    </tr>\n",
       "    <tr>\n",
       "      <th>20</th>\n",
       "      <td>Net Fee And Commission Income</td>\n",
       "      <td>NFCI</td>\n",
       "      <td>5.405780e+11</td>\n",
       "      <td>7.078780e+11</td>\n",
       "      <td>7.266170e+11</td>\n",
       "      <td>7.336860e+11</td>\n",
       "      <td>6.386010e+11</td>\n",
       "      <td>6.319890e+11</td>\n",
       "      <td>7.357730e+11</td>\n",
       "      <td>7.971210e+11</td>\n",
       "      <td>8.801050e+11</td>\n",
       "      <td>1.186356e+12</td>\n",
       "    </tr>\n",
       "  </tbody>\n",
       "</table>\n",
       "</div>"
      ],
      "text/plain": [
       "                               NV    VT       Q1/2019       Q2/2019  \\\n",
       "0               Short-Term Assets   STA  3.252033e+14  3.408741e+14   \n",
       "1          Short-Term Liabilities   STL  3.134192e+14  3.271045e+14   \n",
       "2                 Liquidity Ratio    LR  1.037599e+00  1.042096e+00   \n",
       "3                          Equity     E  2.238344e+13  2.383370e+13   \n",
       "4                          Assets     A  3.358026e+14  3.509382e+14   \n",
       "5                   Equity/Assets   E/A  6.665655e-02  6.791426e-02   \n",
       "6                     Substandard     S  2.331867e+11  2.464172e+11   \n",
       "7                        Doubtful     D  2.032840e+08  2.063550e+08   \n",
       "8                            Loss     L  1.287190e+09  1.225598e+09   \n",
       "9             Non Performing Loan   NPL  9.995138e-02  9.992721e-02   \n",
       "10          Earnings Before Taxes   EBT  1.706894e+12  1.915339e+12   \n",
       "11         Net Profit After Taxes  NPAT  1.365889e+12  1.532743e+12   \n",
       "12                     Net Profit    NP  1.691233e+12  2.026495e+12   \n",
       "13            Loaons To customers   LTC  2.347914e+14  2.480297e+14   \n",
       "14                  Credit Growth    CG  2.986326e+00  5.638325e+00   \n",
       "15             Loans To Customers   LTC  2.347914e+14  2.480297e+14   \n",
       "16               Return On Assets   ROA  4.067535e-03  4.367559e-03   \n",
       "17               Return On Equity   ROE  6.102229e-02  6.430989e-02   \n",
       "18         Total Operating Income   TOI  3.490162e+12  3.948649e+12   \n",
       "19               Due To Customers   DTC  9.209490e+12  7.775415e+12   \n",
       "20  Net Fee And Commission Income  NFCI  5.405780e+11  7.078780e+11   \n",
       "\n",
       "         Q3/2019       Q4/2019       Q1/2020       Q2/2020       Q3/2020  \\\n",
       "0   3.475317e+14  3.723937e+14  3.771457e+14  3.872965e+14  4.084766e+14   \n",
       "1   3.328108e+14  3.557619e+14  3.579837e+14  3.659280e+14  3.858293e+14   \n",
       "2   1.044232e+00  1.046750e+00  1.053528e+00  1.058395e+00  1.058698e+00   \n",
       "3   2.536431e+13  2.775251e+13  2.941236e+13  3.083244e+13  3.291897e+13   \n",
       "4   3.581751e+14  3.835144e+14  3.873961e+14  3.967604e+14  4.187483e+14   \n",
       "5   7.081539e-02  7.236366e-02  7.592324e-02  7.771049e-02  7.861278e-02   \n",
       "6   2.520008e+11  2.649409e+11  2.707348e+11  2.787843e+11  2.919011e+11   \n",
       "7   2.253890e+08  3.108590e+08  3.858670e+08  5.097630e+08  5.434250e+08   \n",
       "8   1.190711e+06  9.031550e+08  9.643630e+08  1.060103e+09  1.105228e+09   \n",
       "9   9.955968e-02  9.999625e-02  9.998153e-02  9.977361e-02  9.968663e-02   \n",
       "10  1.938773e+12  1.954930e+12  1.924923e+12  1.894664e+12  2.591572e+12   \n",
       "11  1.549212e+12  1.549241e+12  1.537053e+12  1.521655e+12  2.074572e+12   \n",
       "12  2.005239e+12  2.066790e+12  2.017589e+12  2.334194e+12  2.753568e+12   \n",
       "13  2.533429e+14  2.661649e+14  2.721353e+14  2.809903e+14  2.944725e+14   \n",
       "14  2.142186e+00  5.061096e+00  2.243139e+00  3.253888e+00  4.798120e+00   \n",
       "15  2.533429e+14  2.661649e+14  2.721353e+14  2.809903e+14  2.944725e+14   \n",
       "16  4.325292e-03  4.039590e-03  3.967653e-03  3.835199e-03  4.954222e-03   \n",
       "17  6.107842e-02  5.582346e-02  5.225874e-02  4.935239e-02  6.302057e-02   \n",
       "18  3.848856e+12  4.809686e+12  4.378224e+12  4.102100e+12  4.485580e+12   \n",
       "19  5.973123e+12  1.042031e+13  1.267115e+13  2.081391e+13  1.228916e+13   \n",
       "20  7.266170e+11  7.336860e+11  6.386010e+11  6.319890e+11  7.357730e+11   \n",
       "\n",
       "         Q4/2020       Q1/2021       Q2/2021  \n",
       "0   4.334060e+14  4.382204e+14  4.604806e+14  \n",
       "1   4.090819e+14  4.115854e+14  4.308952e+14  \n",
       "2   1.059460e+00  1.064713e+00  1.068660e+00  \n",
       "3   3.544816e+13  3.792934e+13  4.038024e+13  \n",
       "4   4.445301e+14  4.495147e+14  4.712754e+14  \n",
       "5   7.974300e-02  8.437840e-02  8.568290e-02  \n",
       "6   3.064123e+11  3.174886e+11  3.347276e+11  \n",
       "7   4.112840e+08  7.989830e+08  5.287030e+08  \n",
       "8   1.216606e+09  1.858243e+09  1.240964e+09  \n",
       "9   9.984169e-02  9.981009e-02  9.990193e-02  \n",
       "10  3.184729e+12  3.104319e+12  3.248434e+12  \n",
       "11  2.549543e+12  2.483401e+12  2.588235e+12  \n",
       "12  3.431690e+12  3.710080e+12  4.634679e+12  \n",
       "13  3.085286e+14  3.207550e+14  3.368276e+14  \n",
       "14  4.773314e+00  3.962798e+00  5.010880e+00  \n",
       "15  3.085286e+14  3.207550e+14  3.368276e+14  \n",
       "16  5.735366e-03  5.524626e-03  5.491979e-03  \n",
       "17  7.192313e-02  6.547441e-02  6.409657e-02  \n",
       "18  5.195405e+12  5.675377e+12  6.227217e+12  \n",
       "19  1.661680e+13  2.023257e+13  2.191232e+13  \n",
       "20  7.971210e+11  8.801050e+11  1.186356e+12  "
      ]
     },
     "execution_count": 42,
     "metadata": {},
     "output_type": "execute_result"
    }
   ],
   "source": [
    "ACB"
   ]
  },
  {
   "cell_type": "markdown",
   "metadata": {},
   "source": [
    "TỶ LỆ NỢ XẤU"
   ]
  },
  {
   "cell_type": "code",
   "execution_count": 43,
   "metadata": {},
   "outputs": [],
   "source": [
    "#Substandard\n",
    "acb_substd= ACB.iloc[6, 2:]\n",
    "scb_substd= SCB.iloc[6, 2:]\n",
    "bid_substd= BID.iloc[6, 2:]\n",
    "tpb_substd= TPB.iloc[6, 2:]\n",
    "vcb_substd= VCB.iloc[6, 2:]\n",
    "vtb_substd= VTB.iloc[6, 2:]\n",
    "\n",
    "#Doubtful\n",
    "acb_doub= ACB.iloc[7, 2:]\n",
    "scb_doub= SCB.iloc[7, 2:]\n",
    "bid_doub= BID.iloc[7, 2:]\n",
    "tpb_doub= TPB.iloc[7, 2:]\n",
    "vcb_doub= VCB.iloc[7, 2:]\n",
    "vtb_doub= VTB.iloc[7, 2:]\n",
    "\n",
    "#Loss\n",
    "acb_loss= ACB.iloc[8, 2:]\n",
    "scb_loss= SCB.iloc[8, 2:]\n",
    "bid_loss= BID.iloc[8, 2:]\n",
    "tpb_loss= TPB.iloc[8, 2:]\n",
    "vcb_loss= VCB.iloc[8, 2:]\n",
    "vtb_loss= VTB.iloc[8, 2:]\n",
    "\n",
    "#Non Performing Loan\n",
    "acb_npl= ACB.iloc[9, 2:]\n",
    "scb_npl= SCB.iloc[9, 2:]\n",
    "bid_npl= BID.iloc[9, 2:]\n",
    "tpb_npl= TPB.iloc[9, 2:]\n",
    "vcb_npl= VCB.iloc[9, 2:]\n",
    "vtb_npl= VTB.iloc[9, 2:]"
   ]
  },
  {
   "cell_type": "code",
   "execution_count": 44,
   "metadata": {},
   "outputs": [
    {
     "data": {
      "application/vnd.plotly.v1+json": {
       "config": {
        "plotlyServerURL": "https://plot.ly"
       },
       "data": [
        {
         "name": "ACB",
         "opacity": 0.75,
         "type": "bar",
         "uid": "f42d66ff-40b1-4d1b-b044-d8762df8e5e6",
         "x": [
          "Q1/2019",
          "Q2/2019",
          "Q3/2019",
          "Q4/2019",
          "Q1/2020",
          "Q2/2020",
          "Q3/2020",
          "Q4/2020",
          "Q1/2021",
          "Q2/2021"
         ],
         "y": [
          0.09995138365,
          0.09992720951,
          0.09955968129,
          0.0999962542,
          0.0999815272,
          0.09977361494,
          0.09968663291,
          0.09984169151,
          0.09981008526,
          0.09990192551
         ]
        },
        {
         "name": "SCB",
         "opacity": 0.75,
         "type": "bar",
         "uid": "2d333ccc-6ef7-4dc4-9a77-0c1a2518e841",
         "x": [
          "Q1/2019",
          "Q2/2019",
          "Q3/2019",
          "Q4/2019",
          "Q1/2020",
          "Q2/2020",
          "Q3/2020",
          "Q4/2020",
          "Q1/2021",
          "Q2/2021"
         ],
         "y": [
          0.001949939072,
          0.001850290482,
          0.001815971796,
          0.001782895265,
          0.001822465914,
          0.001934119353,
          0.001916652538,
          0.001512499265,
          0.001291613726,
          0.001403724789
         ]
        },
        {
         "name": "BIDV",
         "opacity": 0.75,
         "type": "bar",
         "uid": "a759522c-2707-46b0-a617-0cfa5a49b828",
         "x": [
          "Q1/2019",
          "Q2/2019",
          "Q3/2019",
          "Q4/2019",
          "Q1/2020",
          "Q2/2020",
          "Q3/2020",
          "Q4/2020",
          "Q1/2021",
          "Q2/2021"
         ],
         "y": [
          0.001766599236,
          0.002012022798,
          0.002124727681,
          0.001764264501,
          0.001771540702,
          0.002031084182,
          0.002000954792,
          0.001785323735,
          0.001794611393,
          0.00166782663
         ]
        },
        {
         "name": "TPB",
         "opacity": 0.75,
         "type": "bar",
         "uid": "8cbe19e3-f7c9-46f8-8d3a-0a2a70be7e73",
         "x": [
          "Q1/2019",
          "Q2/2019",
          "Q3/2019",
          "Q4/2019",
          "Q1/2020",
          "Q2/2020",
          "Q3/2020",
          "Q4/2020",
          "Q1/2021",
          "Q2/2021"
         ],
         "y": [
          0.001403867523,
          0.001520926378,
          0.001531462564,
          0.001307809609,
          0.001901543346,
          0.001495546335,
          0.001815906384,
          0.001202907813,
          0.001212028381,
          0.001168622423
         ]
        },
        {
         "name": "VCB",
         "opacity": 0.75,
         "type": "bar",
         "uid": "acb9ba36-b39e-44ba-ab8a-cd78b72bce04",
         "x": [
          "Q1/2019",
          "Q2/2019",
          "Q3/2019",
          "Q4/2019",
          "Q1/2020",
          "Q2/2020",
          "Q3/2020",
          "Q4/2020",
          "Q1/2021",
          "Q2/2021"
         ],
         "y": [
          0.001040360439,
          0.001044737041,
          0.001098751527,
          0.0007855524995,
          0.0008367410047,
          0.0008440149259,
          0.001028249606,
          0.000637425624,
          0.0009050508593,
          0.0007646420284
         ]
        },
        {
         "name": "VTB",
         "opacity": 0.75,
         "type": "bar",
         "uid": "627c2e0a-d497-4c65-89cd-104d3460c41a",
         "x": [
          "Q1/2019",
          "Q2/2019",
          "Q3/2019",
          "Q4/2019",
          "Q1/2020",
          "Q2/2020",
          "Q3/2020",
          "Q4/2020",
          "Q1/2021",
          "Q2/2021"
         ],
         "y": [
          0.001888328447,
          0.001491033903,
          0.001593963643,
          0.001171750859,
          0.001857888363,
          0.001719689723,
          0.001903664371,
          0.000949279718,
          0.0008924687762,
          0.001368440905
         ]
        }
       ],
       "layout": {
        "barmode": "group",
        "template": {
         "data": {
          "bar": [
           {
            "error_x": {
             "color": "#2a3f5f"
            },
            "error_y": {
             "color": "#2a3f5f"
            },
            "marker": {
             "line": {
              "color": "#E5ECF6",
              "width": 0.5
             },
             "pattern": {
              "fillmode": "overlay",
              "size": 10,
              "solidity": 0.2
             }
            },
            "type": "bar"
           }
          ],
          "barpolar": [
           {
            "marker": {
             "line": {
              "color": "#E5ECF6",
              "width": 0.5
             },
             "pattern": {
              "fillmode": "overlay",
              "size": 10,
              "solidity": 0.2
             }
            },
            "type": "barpolar"
           }
          ],
          "carpet": [
           {
            "aaxis": {
             "endlinecolor": "#2a3f5f",
             "gridcolor": "white",
             "linecolor": "white",
             "minorgridcolor": "white",
             "startlinecolor": "#2a3f5f"
            },
            "baxis": {
             "endlinecolor": "#2a3f5f",
             "gridcolor": "white",
             "linecolor": "white",
             "minorgridcolor": "white",
             "startlinecolor": "#2a3f5f"
            },
            "type": "carpet"
           }
          ],
          "choropleth": [
           {
            "colorbar": {
             "outlinewidth": 0,
             "ticks": ""
            },
            "type": "choropleth"
           }
          ],
          "contour": [
           {
            "colorbar": {
             "outlinewidth": 0,
             "ticks": ""
            },
            "colorscale": [
             [
              0,
              "#0d0887"
             ],
             [
              0.1111111111111111,
              "#46039f"
             ],
             [
              0.2222222222222222,
              "#7201a8"
             ],
             [
              0.3333333333333333,
              "#9c179e"
             ],
             [
              0.4444444444444444,
              "#bd3786"
             ],
             [
              0.5555555555555556,
              "#d8576b"
             ],
             [
              0.6666666666666666,
              "#ed7953"
             ],
             [
              0.7777777777777778,
              "#fb9f3a"
             ],
             [
              0.8888888888888888,
              "#fdca26"
             ],
             [
              1,
              "#f0f921"
             ]
            ],
            "type": "contour"
           }
          ],
          "contourcarpet": [
           {
            "colorbar": {
             "outlinewidth": 0,
             "ticks": ""
            },
            "type": "contourcarpet"
           }
          ],
          "heatmap": [
           {
            "colorbar": {
             "outlinewidth": 0,
             "ticks": ""
            },
            "colorscale": [
             [
              0,
              "#0d0887"
             ],
             [
              0.1111111111111111,
              "#46039f"
             ],
             [
              0.2222222222222222,
              "#7201a8"
             ],
             [
              0.3333333333333333,
              "#9c179e"
             ],
             [
              0.4444444444444444,
              "#bd3786"
             ],
             [
              0.5555555555555556,
              "#d8576b"
             ],
             [
              0.6666666666666666,
              "#ed7953"
             ],
             [
              0.7777777777777778,
              "#fb9f3a"
             ],
             [
              0.8888888888888888,
              "#fdca26"
             ],
             [
              1,
              "#f0f921"
             ]
            ],
            "type": "heatmap"
           }
          ],
          "heatmapgl": [
           {
            "colorbar": {
             "outlinewidth": 0,
             "ticks": ""
            },
            "colorscale": [
             [
              0,
              "#0d0887"
             ],
             [
              0.1111111111111111,
              "#46039f"
             ],
             [
              0.2222222222222222,
              "#7201a8"
             ],
             [
              0.3333333333333333,
              "#9c179e"
             ],
             [
              0.4444444444444444,
              "#bd3786"
             ],
             [
              0.5555555555555556,
              "#d8576b"
             ],
             [
              0.6666666666666666,
              "#ed7953"
             ],
             [
              0.7777777777777778,
              "#fb9f3a"
             ],
             [
              0.8888888888888888,
              "#fdca26"
             ],
             [
              1,
              "#f0f921"
             ]
            ],
            "type": "heatmapgl"
           }
          ],
          "histogram": [
           {
            "marker": {
             "pattern": {
              "fillmode": "overlay",
              "size": 10,
              "solidity": 0.2
             }
            },
            "type": "histogram"
           }
          ],
          "histogram2d": [
           {
            "colorbar": {
             "outlinewidth": 0,
             "ticks": ""
            },
            "colorscale": [
             [
              0,
              "#0d0887"
             ],
             [
              0.1111111111111111,
              "#46039f"
             ],
             [
              0.2222222222222222,
              "#7201a8"
             ],
             [
              0.3333333333333333,
              "#9c179e"
             ],
             [
              0.4444444444444444,
              "#bd3786"
             ],
             [
              0.5555555555555556,
              "#d8576b"
             ],
             [
              0.6666666666666666,
              "#ed7953"
             ],
             [
              0.7777777777777778,
              "#fb9f3a"
             ],
             [
              0.8888888888888888,
              "#fdca26"
             ],
             [
              1,
              "#f0f921"
             ]
            ],
            "type": "histogram2d"
           }
          ],
          "histogram2dcontour": [
           {
            "colorbar": {
             "outlinewidth": 0,
             "ticks": ""
            },
            "colorscale": [
             [
              0,
              "#0d0887"
             ],
             [
              0.1111111111111111,
              "#46039f"
             ],
             [
              0.2222222222222222,
              "#7201a8"
             ],
             [
              0.3333333333333333,
              "#9c179e"
             ],
             [
              0.4444444444444444,
              "#bd3786"
             ],
             [
              0.5555555555555556,
              "#d8576b"
             ],
             [
              0.6666666666666666,
              "#ed7953"
             ],
             [
              0.7777777777777778,
              "#fb9f3a"
             ],
             [
              0.8888888888888888,
              "#fdca26"
             ],
             [
              1,
              "#f0f921"
             ]
            ],
            "type": "histogram2dcontour"
           }
          ],
          "mesh3d": [
           {
            "colorbar": {
             "outlinewidth": 0,
             "ticks": ""
            },
            "type": "mesh3d"
           }
          ],
          "parcoords": [
           {
            "line": {
             "colorbar": {
              "outlinewidth": 0,
              "ticks": ""
             }
            },
            "type": "parcoords"
           }
          ],
          "pie": [
           {
            "automargin": true,
            "type": "pie"
           }
          ],
          "scatter": [
           {
            "marker": {
             "colorbar": {
              "outlinewidth": 0,
              "ticks": ""
             }
            },
            "type": "scatter"
           }
          ],
          "scatter3d": [
           {
            "line": {
             "colorbar": {
              "outlinewidth": 0,
              "ticks": ""
             }
            },
            "marker": {
             "colorbar": {
              "outlinewidth": 0,
              "ticks": ""
             }
            },
            "type": "scatter3d"
           }
          ],
          "scattercarpet": [
           {
            "marker": {
             "colorbar": {
              "outlinewidth": 0,
              "ticks": ""
             }
            },
            "type": "scattercarpet"
           }
          ],
          "scattergeo": [
           {
            "marker": {
             "colorbar": {
              "outlinewidth": 0,
              "ticks": ""
             }
            },
            "type": "scattergeo"
           }
          ],
          "scattergl": [
           {
            "marker": {
             "colorbar": {
              "outlinewidth": 0,
              "ticks": ""
             }
            },
            "type": "scattergl"
           }
          ],
          "scattermapbox": [
           {
            "marker": {
             "colorbar": {
              "outlinewidth": 0,
              "ticks": ""
             }
            },
            "type": "scattermapbox"
           }
          ],
          "scatterpolar": [
           {
            "marker": {
             "colorbar": {
              "outlinewidth": 0,
              "ticks": ""
             }
            },
            "type": "scatterpolar"
           }
          ],
          "scatterpolargl": [
           {
            "marker": {
             "colorbar": {
              "outlinewidth": 0,
              "ticks": ""
             }
            },
            "type": "scatterpolargl"
           }
          ],
          "scatterternary": [
           {
            "marker": {
             "colorbar": {
              "outlinewidth": 0,
              "ticks": ""
             }
            },
            "type": "scatterternary"
           }
          ],
          "surface": [
           {
            "colorbar": {
             "outlinewidth": 0,
             "ticks": ""
            },
            "colorscale": [
             [
              0,
              "#0d0887"
             ],
             [
              0.1111111111111111,
              "#46039f"
             ],
             [
              0.2222222222222222,
              "#7201a8"
             ],
             [
              0.3333333333333333,
              "#9c179e"
             ],
             [
              0.4444444444444444,
              "#bd3786"
             ],
             [
              0.5555555555555556,
              "#d8576b"
             ],
             [
              0.6666666666666666,
              "#ed7953"
             ],
             [
              0.7777777777777778,
              "#fb9f3a"
             ],
             [
              0.8888888888888888,
              "#fdca26"
             ],
             [
              1,
              "#f0f921"
             ]
            ],
            "type": "surface"
           }
          ],
          "table": [
           {
            "cells": {
             "fill": {
              "color": "#EBF0F8"
             },
             "line": {
              "color": "white"
             }
            },
            "header": {
             "fill": {
              "color": "#C8D4E3"
             },
             "line": {
              "color": "white"
             }
            },
            "type": "table"
           }
          ]
         },
         "layout": {
          "annotationdefaults": {
           "arrowcolor": "#2a3f5f",
           "arrowhead": 0,
           "arrowwidth": 1
          },
          "autotypenumbers": "strict",
          "coloraxis": {
           "colorbar": {
            "outlinewidth": 0,
            "ticks": ""
           }
          },
          "colorscale": {
           "diverging": [
            [
             0,
             "#8e0152"
            ],
            [
             0.1,
             "#c51b7d"
            ],
            [
             0.2,
             "#de77ae"
            ],
            [
             0.3,
             "#f1b6da"
            ],
            [
             0.4,
             "#fde0ef"
            ],
            [
             0.5,
             "#f7f7f7"
            ],
            [
             0.6,
             "#e6f5d0"
            ],
            [
             0.7,
             "#b8e186"
            ],
            [
             0.8,
             "#7fbc41"
            ],
            [
             0.9,
             "#4d9221"
            ],
            [
             1,
             "#276419"
            ]
           ],
           "sequential": [
            [
             0,
             "#0d0887"
            ],
            [
             0.1111111111111111,
             "#46039f"
            ],
            [
             0.2222222222222222,
             "#7201a8"
            ],
            [
             0.3333333333333333,
             "#9c179e"
            ],
            [
             0.4444444444444444,
             "#bd3786"
            ],
            [
             0.5555555555555556,
             "#d8576b"
            ],
            [
             0.6666666666666666,
             "#ed7953"
            ],
            [
             0.7777777777777778,
             "#fb9f3a"
            ],
            [
             0.8888888888888888,
             "#fdca26"
            ],
            [
             1,
             "#f0f921"
            ]
           ],
           "sequentialminus": [
            [
             0,
             "#0d0887"
            ],
            [
             0.1111111111111111,
             "#46039f"
            ],
            [
             0.2222222222222222,
             "#7201a8"
            ],
            [
             0.3333333333333333,
             "#9c179e"
            ],
            [
             0.4444444444444444,
             "#bd3786"
            ],
            [
             0.5555555555555556,
             "#d8576b"
            ],
            [
             0.6666666666666666,
             "#ed7953"
            ],
            [
             0.7777777777777778,
             "#fb9f3a"
            ],
            [
             0.8888888888888888,
             "#fdca26"
            ],
            [
             1,
             "#f0f921"
            ]
           ]
          },
          "colorway": [
           "#636efa",
           "#EF553B",
           "#00cc96",
           "#ab63fa",
           "#FFA15A",
           "#19d3f3",
           "#FF6692",
           "#B6E880",
           "#FF97FF",
           "#FECB52"
          ],
          "font": {
           "color": "#2a3f5f"
          },
          "geo": {
           "bgcolor": "white",
           "lakecolor": "white",
           "landcolor": "#E5ECF6",
           "showlakes": true,
           "showland": true,
           "subunitcolor": "white"
          },
          "hoverlabel": {
           "align": "left"
          },
          "hovermode": "closest",
          "mapbox": {
           "style": "light"
          },
          "paper_bgcolor": "white",
          "plot_bgcolor": "#E5ECF6",
          "polar": {
           "angularaxis": {
            "gridcolor": "white",
            "linecolor": "white",
            "ticks": ""
           },
           "bgcolor": "#E5ECF6",
           "radialaxis": {
            "gridcolor": "white",
            "linecolor": "white",
            "ticks": ""
           }
          },
          "scene": {
           "xaxis": {
            "backgroundcolor": "#E5ECF6",
            "gridcolor": "white",
            "gridwidth": 2,
            "linecolor": "white",
            "showbackground": true,
            "ticks": "",
            "zerolinecolor": "white"
           },
           "yaxis": {
            "backgroundcolor": "#E5ECF6",
            "gridcolor": "white",
            "gridwidth": 2,
            "linecolor": "white",
            "showbackground": true,
            "ticks": "",
            "zerolinecolor": "white"
           },
           "zaxis": {
            "backgroundcolor": "#E5ECF6",
            "gridcolor": "white",
            "gridwidth": 2,
            "linecolor": "white",
            "showbackground": true,
            "ticks": "",
            "zerolinecolor": "white"
           }
          },
          "shapedefaults": {
           "line": {
            "color": "#2a3f5f"
           }
          },
          "ternary": {
           "aaxis": {
            "gridcolor": "white",
            "linecolor": "white",
            "ticks": ""
           },
           "baxis": {
            "gridcolor": "white",
            "linecolor": "white",
            "ticks": ""
           },
           "bgcolor": "#E5ECF6",
           "caxis": {
            "gridcolor": "white",
            "linecolor": "white",
            "ticks": ""
           }
          },
          "title": {
           "x": 0.05
          },
          "xaxis": {
           "automargin": true,
           "gridcolor": "white",
           "linecolor": "white",
           "ticks": "",
           "title": {
            "standoff": 15
           },
           "zerolinecolor": "white",
           "zerolinewidth": 2
          },
          "yaxis": {
           "automargin": true,
           "gridcolor": "white",
           "linecolor": "white",
           "ticks": "",
           "title": {
            "standoff": 15
           },
           "zerolinecolor": "white",
           "zerolinewidth": 2
          }
         }
        },
        "title": {
         "text": "Các khoản nợ ACB"
        },
        "xaxis": {
         "title": {
          "text": "Quý"
         }
        },
        "yaxis": {
         "title": {
          "text": "Ngàn tỷ"
         }
        }
       }
      }
     },
     "metadata": {},
     "output_type": "display_data"
    }
   ],
   "source": [
    "chart1 = go.Bar(x= Quarter, y= acb_npl, opacity=0.75, name='ACB')\n",
    "chart2 = go.Bar(x= Quarter, y= scb_npl, opacity=0.75, name='SCB')\n",
    "chart3 = go.Bar(x= Quarter, y= bid_npl, opacity=0.75, name='BIDV')\n",
    "chart4 = go.Bar(x= Quarter, y= tpb_npl, opacity=0.75, name='TPB')\n",
    "chart5 = go.Bar(x= Quarter, y= vcb_npl, opacity=0.75, name='VCB')\n",
    "chart6 = go.Bar(x= Quarter, y= vtb_npl, opacity=0.75, name='VTB')\n",
    "c1 = go.FigureWidget(data=(chart1, chart2, chart3, chart4, chart5, chart6),\n",
    "                    layout=go.Layout(\n",
    "                        title=dict(\n",
    "                            text='Các khoản nợ ACB',\n",
    "                        ),\n",
    "                        barmode='group', yaxis_title='Ngàn tỷ', xaxis_title='Quý'\n",
    "                    ))\n",
    "c1.show()\n"
   ]
  },
  {
   "cell_type": "markdown",
   "metadata": {},
   "source": [
    "Lợi nhuận ( lợi nhuận trước thuế, lợi nhuận sau thuế, Lợi nhuận ròng từ HĐKD)"
   ]
  },
  {
   "cell_type": "code",
   "execution_count": 45,
   "metadata": {},
   "outputs": [],
   "source": [
    "#Earnings Before Taxes\n",
    "acb_ebt= ACB.iloc[10, 2:]\n",
    "scb_ebt= SCB.iloc[10, 2:]\n",
    "bid_ebt= BID.iloc[10, 2:]\n",
    "tpb_ebt= TPB.iloc[10, 2:]\n",
    "vcb_ebt= VCB.iloc[10, 2:]\n",
    "vtb_ebt= VTB.iloc[10, 2:]"
   ]
  },
  {
   "cell_type": "code",
   "execution_count": 46,
   "metadata": {},
   "outputs": [],
   "source": [
    "#Net Profit After Taxes\n",
    "acb_npat= ACB.iloc[11, 2:]\n",
    "scb_npat= SCB.iloc[11, 2:]\n",
    "bid_npat= BID.iloc[11, 2:]\n",
    "tpb_npat= TPB.iloc[11, 2:]\n",
    "vcb_npat= VCB.iloc[11, 2:]\n",
    "vtb_npat= VTB.iloc[11, 2:]"
   ]
  },
  {
   "cell_type": "code",
   "execution_count": 47,
   "metadata": {},
   "outputs": [],
   "source": [
    "\n",
    "trace1 = go.Bar(x= Quarter, y= acb_ebt, opacity=0.75, name='Lợi nhuận trước thuế')\n",
    "trace2 = go.Bar(x= Quarter, y= acb_npat, opacity=0.75, name='Lợi nhuận sau thuế')\n",
    "g1 = go.FigureWidget(data=(trace1, trace2),\n",
    "                    layout=go.Layout(\n",
    "                        title=dict(\n",
    "                            text='Lợi nhuận trước thuế và lời nhuận sau thuế của ACB',\n",
    "                        ),\n",
    "                        barmode='group', yaxis_title='Ngàn tỷ', xaxis_title='Quý'\n",
    "                    ))\n",
    "trace3 = go.Bar(x= Quarter, y= scb_ebt, opacity=0.75, name='Lợi nhuận trước thuế')\n",
    "trace4 = go.Bar(x= Quarter, y= scb_npat, opacity=0.75, name='Lợi nhuận sau thuế')\n",
    "g2 = go.FigureWidget(data=(trace3, trace4),\n",
    "                    layout=go.Layout(\n",
    "                        title=dict(\n",
    "                            text='Lợi nhuận trước thuế và lời nhuận sau thuế SCB'\n",
    "                        ),\n",
    "                        barmode='group', yaxis_title='Ngàn tỷ', xaxis_title='Quý'\n",
    "                    ))\n",
    "trace5 = go.Bar(x= Quarter, y= bid_ebt, opacity=0.75, name='Lợi nhuận trước thuế')\n",
    "trace6 = go.Bar(x= Quarter, y= bid_npat, opacity=0.75, name='Lợi nhuận sau thuế')\n",
    "g3 = go.FigureWidget(data=(trace5, trace6),\n",
    "                    layout=go.Layout(\n",
    "                        title=dict(\n",
    "                            text='Lợi nhuận trước thuế và lời nhuận sau thuế của BIDV'\n",
    "                        ),\n",
    "                        barmode='group', yaxis_title='Ngàn tỷ', xaxis_title='Quý'\n",
    "                    ))\n",
    "trace7 = go.Bar(x= Quarter, y= tpb_ebt, opacity=0.75, name='Lợi nhuận trước thuế')\n",
    "trace8 = go.Bar(x= Quarter, y= tpb_npat, opacity=0.75, name='Lợi nhuận sau thuế')\n",
    "g4 = go.FigureWidget(data=(trace7, trace8),\n",
    "                    layout=go.Layout(\n",
    "                        title=dict(\n",
    "                            text='Lợi nhuận trước thuế và lời nhuận sau thuế của TPB'\n",
    "                        ),\n",
    "                        barmode='group', yaxis_title='Ngàn tỷ', xaxis_title='Quý'\n",
    "                    ))\n",
    "trace9 = go.Bar(x= Quarter, y= vcb_ebt, opacity=0.75, name='Lợi nhuận trước thuế')\n",
    "trace10 = go.Bar(x= Quarter, y= vcb_npat, opacity=0.75, name='Lợi nhuận sau thuế')\n",
    "g5 = go.FigureWidget(data=(trace9, trace10),\n",
    "                    layout=go.Layout(\n",
    "                        title=dict(\n",
    "                            text='Lợi nhuận trước thuế và lời nhuận sau thuế của VCB'\n",
    "                        ),\n",
    "                        barmode='group', yaxis_title='Ngàn tỷ', xaxis_title='Quý'\n",
    "                    ))\n",
    "trace11 = go.Bar(x= Quarter, y= vtb_ebt, opacity=0.75, name='Lợi nhuận trước thuế')\n",
    "trace12 = go.Bar(x= Quarter, y= vtb_npat, opacity=0.75, name='Lợi nhuận sau thuế')\n",
    "g6 = go.FigureWidget(data=(trace11, trace12),\n",
    "                    layout=go.Layout(\n",
    "                        title=dict(\n",
    "                            text='Lợi nhuận trước thuế và lời nhuận sau thuế của VTB'\n",
    "                        ),\n",
    "                        barmode='group', yaxis_title='Ngàn tỷ', xaxis_title='Quý'\n",
    "                    ))\n",
    "\n",
    "trace13= go.Bar(name='ACB', x= Quarter, y= acb_ebt)\n",
    "trace14= go.Bar(name='SCB', x= Quarter, y= scb_ebt)\n",
    "trace15= go.Bar(name='BID', x= Quarter, y= bid_ebt)\n",
    "trace16= go.Bar(name='TPB', x= Quarter, y= tpb_ebt)\n",
    "trace17= go.Bar(name='VCB', x= Quarter, y= vcb_ebt)\n",
    "trace18= go.Bar(name='VTB', x= Quarter, y= vtb_ebt)\n",
    "g7 = go.FigureWidget(data=(trace13, trace14, trace15, trace16, trace17, trace18),\n",
    "                    layout=go.Layout(\n",
    "                        title=dict(\n",
    "                            text='Lợi nhuận trước thuế của các ngân hàng'\n",
    "                        ),\n",
    "                        barmode='group', yaxis_title='Ngàn tỷ', xaxis_title='Quý'\n",
    "                    ))\n",
    "trace19= go.Bar(name='ACB', x= Quarter, y= acb_npat)\n",
    "trace20= go.Bar(name='SCB', x= Quarter, y= scb_npat)\n",
    "trace21= go.Bar(name='BID', x= Quarter, y= bid_npat)\n",
    "trace22= go.Bar(name='TPB', x= Quarter, y= tpb_npat)\n",
    "trace23= go.Bar(name='VCB', x= Quarter, y= vcb_npat)\n",
    "trace24= go.Bar(name='VTB', x= Quarter, y= vtb_npat)\n",
    "g8 = go.FigureWidget(data=(trace19, trace20, trace21, trace22, trace23, trace24),\n",
    "                    layout=go.Layout(\n",
    "                        title=dict(\n",
    "                            text='Lợi nhuận sau thuế của các ngân hàng'\n",
    "                        ),\n",
    "                        barmode='group', yaxis_title='Ngàn tỷ', xaxis_title='Quý'\n",
    "                    ))"
   ]
  },
  {
   "cell_type": "code",
   "execution_count": 48,
   "metadata": {},
   "outputs": [
    {
     "data": {
      "application/vnd.jupyter.widget-view+json": {
       "model_id": "43e5773bd9dc4c2a8e7408fabeb9b764",
       "version_major": 2,
       "version_minor": 0
      },
      "text/plain": [
       "interactive(children=(Dropdown(description='Name', options=('ACB', 'SCB', 'BIDV', 'TPB', 'VCB', 'VTB', 'Lợi nh…"
      ]
     },
     "metadata": {},
     "output_type": "display_data"
    },
    {
     "data": {
      "text/plain": [
       "<function __main__.interactive(Name=['ACB', 'SCB', 'BIDV', 'TPB', 'VCB', 'VTB', 'Lợi nhuận trước thuế của các ngân hàng', 'Lợi nhuận sau thuế của các ngân hàng'])>"
      ]
     },
     "execution_count": 48,
     "metadata": {},
     "output_type": "execute_result"
    }
   ],
   "source": [
    "def interactive(Name= ['ACB', 'SCB', 'BIDV', 'TPB', 'VCB', 'VTB','Lợi nhuận trước thuế của các ngân hàng','Lợi nhuận sau thuế của các ngân hàng']):\n",
    "    if Name == 'ACB':\n",
    "        return g1\n",
    "    elif Name == 'SCB':\n",
    "        return g2\n",
    "    elif Name == 'BIDV':\n",
    "        return g3\n",
    "    elif Name == 'TPB':\n",
    "        return g4\n",
    "    elif Name == 'VCB':\n",
    "        return g5\n",
    "    elif Name == 'VTB':\n",
    "        return g6\n",
    "    elif Name == 'Lợi nhuận trước thuế của các ngân hàng':\n",
    "        return g7\n",
    "    elif Name == 'Lợi nhuận sau thuế của các ngân hàng':\n",
    "        return g8\n",
    "\n",
    "widgets.interact(interactive)"
   ]
  },
  {
   "cell_type": "code",
   "execution_count": 49,
   "metadata": {},
   "outputs": [],
   "source": [
    "#Net Profit\n",
    "acb_npr= ACB.iloc[12, 2:]\n",
    "scb_npr= SCB.iloc[12, 2:]\n",
    "bid_npr= BID.iloc[12, 2:]\n",
    "tpb_npr= TPB.iloc[12, 2:]\n",
    "vcb_npr= VCB.iloc[12, 2:]\n",
    "vtb_npr= VTB.iloc[12, 2:]"
   ]
  },
  {
   "cell_type": "code",
   "execution_count": 50,
   "metadata": {},
   "outputs": [
    {
     "data": {
      "application/vnd.plotly.v1+json": {
       "config": {
        "plotlyServerURL": "https://plot.ly"
       },
       "data": [
        {
         "name": "ACB",
         "type": "bar",
         "x": [
          "Q1/2019",
          "Q2/2019",
          "Q3/2019",
          "Q4/2019",
          "Q1/2020",
          "Q2/2020",
          "Q3/2020",
          "Q4/2020",
          "Q1/2021",
          "Q2/2021"
         ],
         "y": [
          1691233000000,
          2026495000000,
          2005239000000,
          2066790000000,
          2017589000000,
          2334194000000,
          2753568000000,
          3431690000000,
          3710080000000,
          4634679000000
         ]
        },
        {
         "name": "SCB",
         "type": "bar",
         "x": [
          "Q1/2019",
          "Q2/2019",
          "Q3/2019",
          "Q4/2019",
          "Q1/2020",
          "Q2/2020",
          "Q3/2020",
          "Q4/2020",
          "Q1/2021",
          "Q2/2021"
         ],
         "y": [
          1491428000000,
          1015961000000,
          1667265000000,
          1194981000000,
          1405546000000,
          1588108000000,
          2184819000000,
          1077177000000,
          1475966000000,
          2410057000000
         ]
        },
        {
         "name": "BID",
         "type": "bar",
         "x": [
          "Q1/2019",
          "Q2/2019",
          "Q3/2019",
          "Q4/2019",
          "Q1/2020",
          "Q2/2020",
          "Q3/2020",
          "Q4/2020",
          "Q1/2021",
          "Q2/2021"
         ],
         "y": [
          7707286000000,
          7775179000000,
          8075165000000,
          7355440000000,
          7854907000000,
          6741146000000,
          8461174000000,
          9157568000000,
          10568543000000,
          12977217000000
         ]
        },
        {
         "name": "TPB",
         "type": "bar",
         "x": [
          "Q1/2019",
          "Q2/2019",
          "Q3/2019",
          "Q4/2019",
          "Q1/2020",
          "Q2/2020",
          "Q3/2020",
          "Q4/2020",
          "Q1/2021",
          "Q2/2021"
         ],
         "y": [
          1007752000000,
          1121976000000,
          1233012000000,
          1803398000000,
          1333530000000,
          1466554000000,
          1405394000000,
          1966418000000,
          1813101000000,
          2196868000000
         ]
        },
        {
         "name": "VCB",
         "type": "bar",
         "x": [
          "Q1/2019",
          "Q2/2019",
          "Q3/2019",
          "Q4/2019",
          "Q1/2020",
          "Q2/2020",
          "Q3/2020",
          "Q4/2020",
          "Q1/2021",
          "Q2/2021"
         ],
         "y": [
          7384040000000,
          7235921000000,
          7812085000000,
          7481080000000,
          7375195000000,
          7615108000000,
          7007622000000,
          10963016000000,
          10906375000000,
          8163486000000
         ]
        },
        {
         "name": "VTB",
         "type": "bar",
         "x": [
          "Q1/2019",
          "Q2/2019",
          "Q3/2019",
          "Q4/2019",
          "Q1/2020",
          "Q2/2020",
          "Q3/2020",
          "Q4/2020",
          "Q1/2021",
          "Q2/2021"
         ],
         "y": [
          6394473000000,
          6417806000000,
          6623182000000,
          5443687000000,
          7367195000000,
          6692971000000,
          7762170000000,
          7396185000000,
          9410324000000,
          9896321000000
         ]
        }
       ],
       "layout": {
        "barmode": "stack",
        "template": {
         "data": {
          "bar": [
           {
            "error_x": {
             "color": "#2a3f5f"
            },
            "error_y": {
             "color": "#2a3f5f"
            },
            "marker": {
             "line": {
              "color": "#E5ECF6",
              "width": 0.5
             },
             "pattern": {
              "fillmode": "overlay",
              "size": 10,
              "solidity": 0.2
             }
            },
            "type": "bar"
           }
          ],
          "barpolar": [
           {
            "marker": {
             "line": {
              "color": "#E5ECF6",
              "width": 0.5
             },
             "pattern": {
              "fillmode": "overlay",
              "size": 10,
              "solidity": 0.2
             }
            },
            "type": "barpolar"
           }
          ],
          "carpet": [
           {
            "aaxis": {
             "endlinecolor": "#2a3f5f",
             "gridcolor": "white",
             "linecolor": "white",
             "minorgridcolor": "white",
             "startlinecolor": "#2a3f5f"
            },
            "baxis": {
             "endlinecolor": "#2a3f5f",
             "gridcolor": "white",
             "linecolor": "white",
             "minorgridcolor": "white",
             "startlinecolor": "#2a3f5f"
            },
            "type": "carpet"
           }
          ],
          "choropleth": [
           {
            "colorbar": {
             "outlinewidth": 0,
             "ticks": ""
            },
            "type": "choropleth"
           }
          ],
          "contour": [
           {
            "colorbar": {
             "outlinewidth": 0,
             "ticks": ""
            },
            "colorscale": [
             [
              0,
              "#0d0887"
             ],
             [
              0.1111111111111111,
              "#46039f"
             ],
             [
              0.2222222222222222,
              "#7201a8"
             ],
             [
              0.3333333333333333,
              "#9c179e"
             ],
             [
              0.4444444444444444,
              "#bd3786"
             ],
             [
              0.5555555555555556,
              "#d8576b"
             ],
             [
              0.6666666666666666,
              "#ed7953"
             ],
             [
              0.7777777777777778,
              "#fb9f3a"
             ],
             [
              0.8888888888888888,
              "#fdca26"
             ],
             [
              1,
              "#f0f921"
             ]
            ],
            "type": "contour"
           }
          ],
          "contourcarpet": [
           {
            "colorbar": {
             "outlinewidth": 0,
             "ticks": ""
            },
            "type": "contourcarpet"
           }
          ],
          "heatmap": [
           {
            "colorbar": {
             "outlinewidth": 0,
             "ticks": ""
            },
            "colorscale": [
             [
              0,
              "#0d0887"
             ],
             [
              0.1111111111111111,
              "#46039f"
             ],
             [
              0.2222222222222222,
              "#7201a8"
             ],
             [
              0.3333333333333333,
              "#9c179e"
             ],
             [
              0.4444444444444444,
              "#bd3786"
             ],
             [
              0.5555555555555556,
              "#d8576b"
             ],
             [
              0.6666666666666666,
              "#ed7953"
             ],
             [
              0.7777777777777778,
              "#fb9f3a"
             ],
             [
              0.8888888888888888,
              "#fdca26"
             ],
             [
              1,
              "#f0f921"
             ]
            ],
            "type": "heatmap"
           }
          ],
          "heatmapgl": [
           {
            "colorbar": {
             "outlinewidth": 0,
             "ticks": ""
            },
            "colorscale": [
             [
              0,
              "#0d0887"
             ],
             [
              0.1111111111111111,
              "#46039f"
             ],
             [
              0.2222222222222222,
              "#7201a8"
             ],
             [
              0.3333333333333333,
              "#9c179e"
             ],
             [
              0.4444444444444444,
              "#bd3786"
             ],
             [
              0.5555555555555556,
              "#d8576b"
             ],
             [
              0.6666666666666666,
              "#ed7953"
             ],
             [
              0.7777777777777778,
              "#fb9f3a"
             ],
             [
              0.8888888888888888,
              "#fdca26"
             ],
             [
              1,
              "#f0f921"
             ]
            ],
            "type": "heatmapgl"
           }
          ],
          "histogram": [
           {
            "marker": {
             "pattern": {
              "fillmode": "overlay",
              "size": 10,
              "solidity": 0.2
             }
            },
            "type": "histogram"
           }
          ],
          "histogram2d": [
           {
            "colorbar": {
             "outlinewidth": 0,
             "ticks": ""
            },
            "colorscale": [
             [
              0,
              "#0d0887"
             ],
             [
              0.1111111111111111,
              "#46039f"
             ],
             [
              0.2222222222222222,
              "#7201a8"
             ],
             [
              0.3333333333333333,
              "#9c179e"
             ],
             [
              0.4444444444444444,
              "#bd3786"
             ],
             [
              0.5555555555555556,
              "#d8576b"
             ],
             [
              0.6666666666666666,
              "#ed7953"
             ],
             [
              0.7777777777777778,
              "#fb9f3a"
             ],
             [
              0.8888888888888888,
              "#fdca26"
             ],
             [
              1,
              "#f0f921"
             ]
            ],
            "type": "histogram2d"
           }
          ],
          "histogram2dcontour": [
           {
            "colorbar": {
             "outlinewidth": 0,
             "ticks": ""
            },
            "colorscale": [
             [
              0,
              "#0d0887"
             ],
             [
              0.1111111111111111,
              "#46039f"
             ],
             [
              0.2222222222222222,
              "#7201a8"
             ],
             [
              0.3333333333333333,
              "#9c179e"
             ],
             [
              0.4444444444444444,
              "#bd3786"
             ],
             [
              0.5555555555555556,
              "#d8576b"
             ],
             [
              0.6666666666666666,
              "#ed7953"
             ],
             [
              0.7777777777777778,
              "#fb9f3a"
             ],
             [
              0.8888888888888888,
              "#fdca26"
             ],
             [
              1,
              "#f0f921"
             ]
            ],
            "type": "histogram2dcontour"
           }
          ],
          "mesh3d": [
           {
            "colorbar": {
             "outlinewidth": 0,
             "ticks": ""
            },
            "type": "mesh3d"
           }
          ],
          "parcoords": [
           {
            "line": {
             "colorbar": {
              "outlinewidth": 0,
              "ticks": ""
             }
            },
            "type": "parcoords"
           }
          ],
          "pie": [
           {
            "automargin": true,
            "type": "pie"
           }
          ],
          "scatter": [
           {
            "marker": {
             "colorbar": {
              "outlinewidth": 0,
              "ticks": ""
             }
            },
            "type": "scatter"
           }
          ],
          "scatter3d": [
           {
            "line": {
             "colorbar": {
              "outlinewidth": 0,
              "ticks": ""
             }
            },
            "marker": {
             "colorbar": {
              "outlinewidth": 0,
              "ticks": ""
             }
            },
            "type": "scatter3d"
           }
          ],
          "scattercarpet": [
           {
            "marker": {
             "colorbar": {
              "outlinewidth": 0,
              "ticks": ""
             }
            },
            "type": "scattercarpet"
           }
          ],
          "scattergeo": [
           {
            "marker": {
             "colorbar": {
              "outlinewidth": 0,
              "ticks": ""
             }
            },
            "type": "scattergeo"
           }
          ],
          "scattergl": [
           {
            "marker": {
             "colorbar": {
              "outlinewidth": 0,
              "ticks": ""
             }
            },
            "type": "scattergl"
           }
          ],
          "scattermapbox": [
           {
            "marker": {
             "colorbar": {
              "outlinewidth": 0,
              "ticks": ""
             }
            },
            "type": "scattermapbox"
           }
          ],
          "scatterpolar": [
           {
            "marker": {
             "colorbar": {
              "outlinewidth": 0,
              "ticks": ""
             }
            },
            "type": "scatterpolar"
           }
          ],
          "scatterpolargl": [
           {
            "marker": {
             "colorbar": {
              "outlinewidth": 0,
              "ticks": ""
             }
            },
            "type": "scatterpolargl"
           }
          ],
          "scatterternary": [
           {
            "marker": {
             "colorbar": {
              "outlinewidth": 0,
              "ticks": ""
             }
            },
            "type": "scatterternary"
           }
          ],
          "surface": [
           {
            "colorbar": {
             "outlinewidth": 0,
             "ticks": ""
            },
            "colorscale": [
             [
              0,
              "#0d0887"
             ],
             [
              0.1111111111111111,
              "#46039f"
             ],
             [
              0.2222222222222222,
              "#7201a8"
             ],
             [
              0.3333333333333333,
              "#9c179e"
             ],
             [
              0.4444444444444444,
              "#bd3786"
             ],
             [
              0.5555555555555556,
              "#d8576b"
             ],
             [
              0.6666666666666666,
              "#ed7953"
             ],
             [
              0.7777777777777778,
              "#fb9f3a"
             ],
             [
              0.8888888888888888,
              "#fdca26"
             ],
             [
              1,
              "#f0f921"
             ]
            ],
            "type": "surface"
           }
          ],
          "table": [
           {
            "cells": {
             "fill": {
              "color": "#EBF0F8"
             },
             "line": {
              "color": "white"
             }
            },
            "header": {
             "fill": {
              "color": "#C8D4E3"
             },
             "line": {
              "color": "white"
             }
            },
            "type": "table"
           }
          ]
         },
         "layout": {
          "annotationdefaults": {
           "arrowcolor": "#2a3f5f",
           "arrowhead": 0,
           "arrowwidth": 1
          },
          "autotypenumbers": "strict",
          "coloraxis": {
           "colorbar": {
            "outlinewidth": 0,
            "ticks": ""
           }
          },
          "colorscale": {
           "diverging": [
            [
             0,
             "#8e0152"
            ],
            [
             0.1,
             "#c51b7d"
            ],
            [
             0.2,
             "#de77ae"
            ],
            [
             0.3,
             "#f1b6da"
            ],
            [
             0.4,
             "#fde0ef"
            ],
            [
             0.5,
             "#f7f7f7"
            ],
            [
             0.6,
             "#e6f5d0"
            ],
            [
             0.7,
             "#b8e186"
            ],
            [
             0.8,
             "#7fbc41"
            ],
            [
             0.9,
             "#4d9221"
            ],
            [
             1,
             "#276419"
            ]
           ],
           "sequential": [
            [
             0,
             "#0d0887"
            ],
            [
             0.1111111111111111,
             "#46039f"
            ],
            [
             0.2222222222222222,
             "#7201a8"
            ],
            [
             0.3333333333333333,
             "#9c179e"
            ],
            [
             0.4444444444444444,
             "#bd3786"
            ],
            [
             0.5555555555555556,
             "#d8576b"
            ],
            [
             0.6666666666666666,
             "#ed7953"
            ],
            [
             0.7777777777777778,
             "#fb9f3a"
            ],
            [
             0.8888888888888888,
             "#fdca26"
            ],
            [
             1,
             "#f0f921"
            ]
           ],
           "sequentialminus": [
            [
             0,
             "#0d0887"
            ],
            [
             0.1111111111111111,
             "#46039f"
            ],
            [
             0.2222222222222222,
             "#7201a8"
            ],
            [
             0.3333333333333333,
             "#9c179e"
            ],
            [
             0.4444444444444444,
             "#bd3786"
            ],
            [
             0.5555555555555556,
             "#d8576b"
            ],
            [
             0.6666666666666666,
             "#ed7953"
            ],
            [
             0.7777777777777778,
             "#fb9f3a"
            ],
            [
             0.8888888888888888,
             "#fdca26"
            ],
            [
             1,
             "#f0f921"
            ]
           ]
          },
          "colorway": [
           "#636efa",
           "#EF553B",
           "#00cc96",
           "#ab63fa",
           "#FFA15A",
           "#19d3f3",
           "#FF6692",
           "#B6E880",
           "#FF97FF",
           "#FECB52"
          ],
          "font": {
           "color": "#2a3f5f"
          },
          "geo": {
           "bgcolor": "white",
           "lakecolor": "white",
           "landcolor": "#E5ECF6",
           "showlakes": true,
           "showland": true,
           "subunitcolor": "white"
          },
          "hoverlabel": {
           "align": "left"
          },
          "hovermode": "closest",
          "mapbox": {
           "style": "light"
          },
          "paper_bgcolor": "white",
          "plot_bgcolor": "#E5ECF6",
          "polar": {
           "angularaxis": {
            "gridcolor": "white",
            "linecolor": "white",
            "ticks": ""
           },
           "bgcolor": "#E5ECF6",
           "radialaxis": {
            "gridcolor": "white",
            "linecolor": "white",
            "ticks": ""
           }
          },
          "scene": {
           "xaxis": {
            "backgroundcolor": "#E5ECF6",
            "gridcolor": "white",
            "gridwidth": 2,
            "linecolor": "white",
            "showbackground": true,
            "ticks": "",
            "zerolinecolor": "white"
           },
           "yaxis": {
            "backgroundcolor": "#E5ECF6",
            "gridcolor": "white",
            "gridwidth": 2,
            "linecolor": "white",
            "showbackground": true,
            "ticks": "",
            "zerolinecolor": "white"
           },
           "zaxis": {
            "backgroundcolor": "#E5ECF6",
            "gridcolor": "white",
            "gridwidth": 2,
            "linecolor": "white",
            "showbackground": true,
            "ticks": "",
            "zerolinecolor": "white"
           }
          },
          "shapedefaults": {
           "line": {
            "color": "#2a3f5f"
           }
          },
          "ternary": {
           "aaxis": {
            "gridcolor": "white",
            "linecolor": "white",
            "ticks": ""
           },
           "baxis": {
            "gridcolor": "white",
            "linecolor": "white",
            "ticks": ""
           },
           "bgcolor": "#E5ECF6",
           "caxis": {
            "gridcolor": "white",
            "linecolor": "white",
            "ticks": ""
           }
          },
          "title": {
           "x": 0.05
          },
          "xaxis": {
           "automargin": true,
           "gridcolor": "white",
           "linecolor": "white",
           "ticks": "",
           "title": {
            "standoff": 15
           },
           "zerolinecolor": "white",
           "zerolinewidth": 2
          },
          "yaxis": {
           "automargin": true,
           "gridcolor": "white",
           "linecolor": "white",
           "ticks": "",
           "title": {
            "standoff": 15
           },
           "zerolinecolor": "white",
           "zerolinewidth": 2
          }
         }
        },
        "title": {
         "text": "Lợi nhuận ròng các ngân hàng qua các Quý"
        },
        "xaxis": {
         "title": {
          "text": "Quý"
         }
        },
        "yaxis": {
         "title": {
          "text": "Ngàn tỷ"
         }
        }
       }
      }
     },
     "metadata": {},
     "output_type": "display_data"
    }
   ],
   "source": [
    "npr = go.Figure(data=[\n",
    "    go.Bar(name='ACB', y= acb_npr, x= Quarter),\n",
    "    go.Bar(name='SCB', y= scb_npr, x= Quarter),\n",
    "    go.Bar(name='BID', y= bid_npr, x= Quarter),\n",
    "    go.Bar(name='TPB', y= tpb_npr, x= Quarter),\n",
    "    go.Bar(name='VCB', y= vcb_npr, x= Quarter),\n",
    "    go.Bar(name='VTB', y= vtb_npr, x= Quarter)\n",
    "])\n",
    "\n",
    "npr.update_layout(title='Lợi nhuận ròng các ngân hàng qua các Quý',yaxis_title='Ngàn tỷ',\n",
    "                   xaxis_title='Quý',barmode= 'stack')\n",
    "\n",
    "npr.show()"
   ]
  },
  {
   "cell_type": "markdown",
   "metadata": {},
   "source": [
    "Tiền gửi ngân hàng"
   ]
  },
  {
   "cell_type": "code",
   "execution_count": 51,
   "metadata": {},
   "outputs": [],
   "source": [
    "#Due To Customers\n",
    "acb_dtc= ACB.iloc[19, 2:]\n",
    "scb_dtc= SCB.iloc[19, 2:]\n",
    "bid_dtc= BID.iloc[19, 2:]\n",
    "tpb_dtc= TPB.iloc[19, 2:]\n",
    "vcb_dtc= VCB.iloc[19, 2:]\n",
    "vtb_dtc= VTB.iloc[19, 2:]"
   ]
  },
  {
   "cell_type": "code",
   "execution_count": 52,
   "metadata": {},
   "outputs": [
    {
     "name": "stderr",
     "output_type": "stream",
     "text": [
      "C:\\Users\\Dell\\AppData\\Local\\Programs\\Python\\Python39\\lib\\site-packages\\plotly\\graph_objs\\_deprecations.py:378: DeprecationWarning:\n",
      "\n",
      "plotly.graph_objs.Line is deprecated.\n",
      "Please replace it with one of the following more specific types\n",
      "  - plotly.graph_objs.scatter.Line\n",
      "  - plotly.graph_objs.layout.shape.Line\n",
      "  - etc.\n",
      "\n",
      "\n"
     ]
    },
    {
     "data": {
      "application/vnd.plotly.v1+json": {
       "config": {
        "plotlyServerURL": "https://plot.ly"
       },
       "data": [
        {
         "name": "ACB",
         "type": "scatter",
         "x": [
          "Q1/2019",
          "Q2/2019",
          "Q3/2019",
          "Q4/2019",
          "Q1/2020",
          "Q2/2020",
          "Q3/2020",
          "Q4/2020",
          "Q1/2021",
          "Q2/2021"
         ],
         "y": [
          9209490000000,
          7775415000000,
          5973123000000,
          10420306000000,
          12671154000000,
          20813912000000,
          12289157000000,
          16616798000000,
          20232572000000,
          21912320000000
         ]
        },
        {
         "name": "SCB",
         "type": "scatter",
         "x": [
          "Q1/2019",
          "Q2/2019",
          "Q3/2019",
          "Q4/2019",
          "Q1/2020",
          "Q2/2020",
          "Q3/2020",
          "Q4/2020",
          "Q1/2021",
          "Q2/2021"
         ],
         "y": [
          10502428000000,
          11045526000000,
          10449141000000,
          12109861000000,
          11426800000000,
          14113254000000,
          12059124000000,
          10052590000000,
          11896701000000,
          11367139000000
         ]
        },
        {
         "name": "BID",
         "type": "scatter",
         "x": [
          "Q1/2019",
          "Q2/2019",
          "Q3/2019",
          "Q4/2019",
          "Q1/2020",
          "Q2/2020",
          "Q3/2020",
          "Q4/2020",
          "Q1/2021",
          "Q2/2021"
         ],
         "y": [
          32963975000000,
          15351805000000,
          42191695000000,
          135255429000000,
          26782623000000,
          28062207000000,
          40335703000000,
          49434766000000,
          91672598000000,
          37588465000000
         ]
        },
        {
         "name": "TPB",
         "type": "scatter",
         "x": [
          "Q1/2019",
          "Q2/2019",
          "Q3/2019",
          "Q4/2019",
          "Q1/2020",
          "Q2/2020",
          "Q3/2020",
          "Q4/2020",
          "Q1/2021",
          "Q2/2021"
         ],
         "y": [
          4912162000000,
          5394560000000,
          6087591000000,
          7760937000000,
          3249808000000,
          7702277000000,
          8870437000000,
          9108762000000,
          10467415000000,
          16421498000000
         ]
        },
        {
         "name": "VCB",
         "type": "scatter",
         "x": [
          "Q1/2019",
          "Q2/2019",
          "Q3/2019",
          "Q4/2019",
          "Q1/2020",
          "Q2/2020",
          "Q3/2020",
          "Q4/2020",
          "Q1/2021",
          "Q2/2021"
         ],
         "y": [
          39616873000000,
          49621074000000,
          32427277000000,
          34684091000000,
          16569663000000,
          72917405000000,
          24743965000000,
          33139373000000,
          24008360000000,
          23485760000000
         ]
        },
        {
         "name": "VTB",
         "type": "scatter",
         "x": [
          "Q1/2019",
          "Q2/2019",
          "Q3/2019",
          "Q4/2019",
          "Q1/2020",
          "Q2/2020",
          "Q3/2020",
          "Q4/2020",
          "Q1/2021",
          "Q2/2021"
         ],
         "y": [
          32079140000000,
          31819095000000,
          23706522000000,
          24873714000000,
          25157456000000,
          12877566000000,
          17214434000000,
          57616650000000,
          10213007000000,
          37858344000000
         ]
        }
       ],
       "layout": {
        "template": {
         "data": {
          "bar": [
           {
            "error_x": {
             "color": "#2a3f5f"
            },
            "error_y": {
             "color": "#2a3f5f"
            },
            "marker": {
             "line": {
              "color": "#E5ECF6",
              "width": 0.5
             },
             "pattern": {
              "fillmode": "overlay",
              "size": 10,
              "solidity": 0.2
             }
            },
            "type": "bar"
           }
          ],
          "barpolar": [
           {
            "marker": {
             "line": {
              "color": "#E5ECF6",
              "width": 0.5
             },
             "pattern": {
              "fillmode": "overlay",
              "size": 10,
              "solidity": 0.2
             }
            },
            "type": "barpolar"
           }
          ],
          "carpet": [
           {
            "aaxis": {
             "endlinecolor": "#2a3f5f",
             "gridcolor": "white",
             "linecolor": "white",
             "minorgridcolor": "white",
             "startlinecolor": "#2a3f5f"
            },
            "baxis": {
             "endlinecolor": "#2a3f5f",
             "gridcolor": "white",
             "linecolor": "white",
             "minorgridcolor": "white",
             "startlinecolor": "#2a3f5f"
            },
            "type": "carpet"
           }
          ],
          "choropleth": [
           {
            "colorbar": {
             "outlinewidth": 0,
             "ticks": ""
            },
            "type": "choropleth"
           }
          ],
          "contour": [
           {
            "colorbar": {
             "outlinewidth": 0,
             "ticks": ""
            },
            "colorscale": [
             [
              0,
              "#0d0887"
             ],
             [
              0.1111111111111111,
              "#46039f"
             ],
             [
              0.2222222222222222,
              "#7201a8"
             ],
             [
              0.3333333333333333,
              "#9c179e"
             ],
             [
              0.4444444444444444,
              "#bd3786"
             ],
             [
              0.5555555555555556,
              "#d8576b"
             ],
             [
              0.6666666666666666,
              "#ed7953"
             ],
             [
              0.7777777777777778,
              "#fb9f3a"
             ],
             [
              0.8888888888888888,
              "#fdca26"
             ],
             [
              1,
              "#f0f921"
             ]
            ],
            "type": "contour"
           }
          ],
          "contourcarpet": [
           {
            "colorbar": {
             "outlinewidth": 0,
             "ticks": ""
            },
            "type": "contourcarpet"
           }
          ],
          "heatmap": [
           {
            "colorbar": {
             "outlinewidth": 0,
             "ticks": ""
            },
            "colorscale": [
             [
              0,
              "#0d0887"
             ],
             [
              0.1111111111111111,
              "#46039f"
             ],
             [
              0.2222222222222222,
              "#7201a8"
             ],
             [
              0.3333333333333333,
              "#9c179e"
             ],
             [
              0.4444444444444444,
              "#bd3786"
             ],
             [
              0.5555555555555556,
              "#d8576b"
             ],
             [
              0.6666666666666666,
              "#ed7953"
             ],
             [
              0.7777777777777778,
              "#fb9f3a"
             ],
             [
              0.8888888888888888,
              "#fdca26"
             ],
             [
              1,
              "#f0f921"
             ]
            ],
            "type": "heatmap"
           }
          ],
          "heatmapgl": [
           {
            "colorbar": {
             "outlinewidth": 0,
             "ticks": ""
            },
            "colorscale": [
             [
              0,
              "#0d0887"
             ],
             [
              0.1111111111111111,
              "#46039f"
             ],
             [
              0.2222222222222222,
              "#7201a8"
             ],
             [
              0.3333333333333333,
              "#9c179e"
             ],
             [
              0.4444444444444444,
              "#bd3786"
             ],
             [
              0.5555555555555556,
              "#d8576b"
             ],
             [
              0.6666666666666666,
              "#ed7953"
             ],
             [
              0.7777777777777778,
              "#fb9f3a"
             ],
             [
              0.8888888888888888,
              "#fdca26"
             ],
             [
              1,
              "#f0f921"
             ]
            ],
            "type": "heatmapgl"
           }
          ],
          "histogram": [
           {
            "marker": {
             "pattern": {
              "fillmode": "overlay",
              "size": 10,
              "solidity": 0.2
             }
            },
            "type": "histogram"
           }
          ],
          "histogram2d": [
           {
            "colorbar": {
             "outlinewidth": 0,
             "ticks": ""
            },
            "colorscale": [
             [
              0,
              "#0d0887"
             ],
             [
              0.1111111111111111,
              "#46039f"
             ],
             [
              0.2222222222222222,
              "#7201a8"
             ],
             [
              0.3333333333333333,
              "#9c179e"
             ],
             [
              0.4444444444444444,
              "#bd3786"
             ],
             [
              0.5555555555555556,
              "#d8576b"
             ],
             [
              0.6666666666666666,
              "#ed7953"
             ],
             [
              0.7777777777777778,
              "#fb9f3a"
             ],
             [
              0.8888888888888888,
              "#fdca26"
             ],
             [
              1,
              "#f0f921"
             ]
            ],
            "type": "histogram2d"
           }
          ],
          "histogram2dcontour": [
           {
            "colorbar": {
             "outlinewidth": 0,
             "ticks": ""
            },
            "colorscale": [
             [
              0,
              "#0d0887"
             ],
             [
              0.1111111111111111,
              "#46039f"
             ],
             [
              0.2222222222222222,
              "#7201a8"
             ],
             [
              0.3333333333333333,
              "#9c179e"
             ],
             [
              0.4444444444444444,
              "#bd3786"
             ],
             [
              0.5555555555555556,
              "#d8576b"
             ],
             [
              0.6666666666666666,
              "#ed7953"
             ],
             [
              0.7777777777777778,
              "#fb9f3a"
             ],
             [
              0.8888888888888888,
              "#fdca26"
             ],
             [
              1,
              "#f0f921"
             ]
            ],
            "type": "histogram2dcontour"
           }
          ],
          "mesh3d": [
           {
            "colorbar": {
             "outlinewidth": 0,
             "ticks": ""
            },
            "type": "mesh3d"
           }
          ],
          "parcoords": [
           {
            "line": {
             "colorbar": {
              "outlinewidth": 0,
              "ticks": ""
             }
            },
            "type": "parcoords"
           }
          ],
          "pie": [
           {
            "automargin": true,
            "type": "pie"
           }
          ],
          "scatter": [
           {
            "marker": {
             "colorbar": {
              "outlinewidth": 0,
              "ticks": ""
             }
            },
            "type": "scatter"
           }
          ],
          "scatter3d": [
           {
            "line": {
             "colorbar": {
              "outlinewidth": 0,
              "ticks": ""
             }
            },
            "marker": {
             "colorbar": {
              "outlinewidth": 0,
              "ticks": ""
             }
            },
            "type": "scatter3d"
           }
          ],
          "scattercarpet": [
           {
            "marker": {
             "colorbar": {
              "outlinewidth": 0,
              "ticks": ""
             }
            },
            "type": "scattercarpet"
           }
          ],
          "scattergeo": [
           {
            "marker": {
             "colorbar": {
              "outlinewidth": 0,
              "ticks": ""
             }
            },
            "type": "scattergeo"
           }
          ],
          "scattergl": [
           {
            "marker": {
             "colorbar": {
              "outlinewidth": 0,
              "ticks": ""
             }
            },
            "type": "scattergl"
           }
          ],
          "scattermapbox": [
           {
            "marker": {
             "colorbar": {
              "outlinewidth": 0,
              "ticks": ""
             }
            },
            "type": "scattermapbox"
           }
          ],
          "scatterpolar": [
           {
            "marker": {
             "colorbar": {
              "outlinewidth": 0,
              "ticks": ""
             }
            },
            "type": "scatterpolar"
           }
          ],
          "scatterpolargl": [
           {
            "marker": {
             "colorbar": {
              "outlinewidth": 0,
              "ticks": ""
             }
            },
            "type": "scatterpolargl"
           }
          ],
          "scatterternary": [
           {
            "marker": {
             "colorbar": {
              "outlinewidth": 0,
              "ticks": ""
             }
            },
            "type": "scatterternary"
           }
          ],
          "surface": [
           {
            "colorbar": {
             "outlinewidth": 0,
             "ticks": ""
            },
            "colorscale": [
             [
              0,
              "#0d0887"
             ],
             [
              0.1111111111111111,
              "#46039f"
             ],
             [
              0.2222222222222222,
              "#7201a8"
             ],
             [
              0.3333333333333333,
              "#9c179e"
             ],
             [
              0.4444444444444444,
              "#bd3786"
             ],
             [
              0.5555555555555556,
              "#d8576b"
             ],
             [
              0.6666666666666666,
              "#ed7953"
             ],
             [
              0.7777777777777778,
              "#fb9f3a"
             ],
             [
              0.8888888888888888,
              "#fdca26"
             ],
             [
              1,
              "#f0f921"
             ]
            ],
            "type": "surface"
           }
          ],
          "table": [
           {
            "cells": {
             "fill": {
              "color": "#EBF0F8"
             },
             "line": {
              "color": "white"
             }
            },
            "header": {
             "fill": {
              "color": "#C8D4E3"
             },
             "line": {
              "color": "white"
             }
            },
            "type": "table"
           }
          ]
         },
         "layout": {
          "annotationdefaults": {
           "arrowcolor": "#2a3f5f",
           "arrowhead": 0,
           "arrowwidth": 1
          },
          "autotypenumbers": "strict",
          "coloraxis": {
           "colorbar": {
            "outlinewidth": 0,
            "ticks": ""
           }
          },
          "colorscale": {
           "diverging": [
            [
             0,
             "#8e0152"
            ],
            [
             0.1,
             "#c51b7d"
            ],
            [
             0.2,
             "#de77ae"
            ],
            [
             0.3,
             "#f1b6da"
            ],
            [
             0.4,
             "#fde0ef"
            ],
            [
             0.5,
             "#f7f7f7"
            ],
            [
             0.6,
             "#e6f5d0"
            ],
            [
             0.7,
             "#b8e186"
            ],
            [
             0.8,
             "#7fbc41"
            ],
            [
             0.9,
             "#4d9221"
            ],
            [
             1,
             "#276419"
            ]
           ],
           "sequential": [
            [
             0,
             "#0d0887"
            ],
            [
             0.1111111111111111,
             "#46039f"
            ],
            [
             0.2222222222222222,
             "#7201a8"
            ],
            [
             0.3333333333333333,
             "#9c179e"
            ],
            [
             0.4444444444444444,
             "#bd3786"
            ],
            [
             0.5555555555555556,
             "#d8576b"
            ],
            [
             0.6666666666666666,
             "#ed7953"
            ],
            [
             0.7777777777777778,
             "#fb9f3a"
            ],
            [
             0.8888888888888888,
             "#fdca26"
            ],
            [
             1,
             "#f0f921"
            ]
           ],
           "sequentialminus": [
            [
             0,
             "#0d0887"
            ],
            [
             0.1111111111111111,
             "#46039f"
            ],
            [
             0.2222222222222222,
             "#7201a8"
            ],
            [
             0.3333333333333333,
             "#9c179e"
            ],
            [
             0.4444444444444444,
             "#bd3786"
            ],
            [
             0.5555555555555556,
             "#d8576b"
            ],
            [
             0.6666666666666666,
             "#ed7953"
            ],
            [
             0.7777777777777778,
             "#fb9f3a"
            ],
            [
             0.8888888888888888,
             "#fdca26"
            ],
            [
             1,
             "#f0f921"
            ]
           ]
          },
          "colorway": [
           "#636efa",
           "#EF553B",
           "#00cc96",
           "#ab63fa",
           "#FFA15A",
           "#19d3f3",
           "#FF6692",
           "#B6E880",
           "#FF97FF",
           "#FECB52"
          ],
          "font": {
           "color": "#2a3f5f"
          },
          "geo": {
           "bgcolor": "white",
           "lakecolor": "white",
           "landcolor": "#E5ECF6",
           "showlakes": true,
           "showland": true,
           "subunitcolor": "white"
          },
          "hoverlabel": {
           "align": "left"
          },
          "hovermode": "closest",
          "mapbox": {
           "style": "light"
          },
          "paper_bgcolor": "white",
          "plot_bgcolor": "#E5ECF6",
          "polar": {
           "angularaxis": {
            "gridcolor": "white",
            "linecolor": "white",
            "ticks": ""
           },
           "bgcolor": "#E5ECF6",
           "radialaxis": {
            "gridcolor": "white",
            "linecolor": "white",
            "ticks": ""
           }
          },
          "scene": {
           "xaxis": {
            "backgroundcolor": "#E5ECF6",
            "gridcolor": "white",
            "gridwidth": 2,
            "linecolor": "white",
            "showbackground": true,
            "ticks": "",
            "zerolinecolor": "white"
           },
           "yaxis": {
            "backgroundcolor": "#E5ECF6",
            "gridcolor": "white",
            "gridwidth": 2,
            "linecolor": "white",
            "showbackground": true,
            "ticks": "",
            "zerolinecolor": "white"
           },
           "zaxis": {
            "backgroundcolor": "#E5ECF6",
            "gridcolor": "white",
            "gridwidth": 2,
            "linecolor": "white",
            "showbackground": true,
            "ticks": "",
            "zerolinecolor": "white"
           }
          },
          "shapedefaults": {
           "line": {
            "color": "#2a3f5f"
           }
          },
          "ternary": {
           "aaxis": {
            "gridcolor": "white",
            "linecolor": "white",
            "ticks": ""
           },
           "baxis": {
            "gridcolor": "white",
            "linecolor": "white",
            "ticks": ""
           },
           "bgcolor": "#E5ECF6",
           "caxis": {
            "gridcolor": "white",
            "linecolor": "white",
            "ticks": ""
           }
          },
          "title": {
           "x": 0.05
          },
          "xaxis": {
           "automargin": true,
           "gridcolor": "white",
           "linecolor": "white",
           "ticks": "",
           "title": {
            "standoff": 15
           },
           "zerolinecolor": "white",
           "zerolinewidth": 2
          },
          "yaxis": {
           "automargin": true,
           "gridcolor": "white",
           "linecolor": "white",
           "ticks": "",
           "title": {
            "standoff": 15
           },
           "zerolinecolor": "white",
           "zerolinewidth": 2
          }
         }
        },
        "title": {
         "text": "Tiền gửi ngân hàng"
        },
        "xaxis": {
         "title": {
          "text": "Quý"
         }
        },
        "yaxis": {
         "title": {
          "text": "Ngàn tỷ"
         }
        }
       }
      }
     },
     "metadata": {},
     "output_type": "display_data"
    }
   ],
   "source": [
    "dtc = go.Figure(data=[\n",
    "    go.Line(name='ACB', y= acb_dtc, x= Quarter),\n",
    "    go.Line(name='SCB', y= scb_dtc, x= Quarter),\n",
    "    go.Line(name='BID', y= bid_dtc, x= Quarter),\n",
    "    go.Line(name='TPB', y= tpb_dtc, x= Quarter),\n",
    "    go.Line(name='VCB', y= vcb_dtc, x= Quarter),\n",
    "    go.Line(name='VTB', y= vtb_dtc, x= Quarter),\n",
    "])\n",
    "\n",
    "dtc.update_layout(title='Tiền gửi ngân hàng',yaxis_title='Ngàn tỷ',\n",
    "                   xaxis_title='Quý')\n",
    "\n",
    "dtc.show()"
   ]
  },
  {
   "cell_type": "code",
   "execution_count": null,
   "metadata": {},
   "outputs": [],
   "source": []
  }
 ],
 "metadata": {
  "interpreter": {
   "hash": "d62006d1f3422635846181a997a61e8ec3049f797e5d7dfe0cd1bb84092b7c19"
  },
  "kernelspec": {
   "display_name": "Python 3.9.6 64-bit",
   "language": "python",
   "name": "python3"
  },
  "language_info": {
   "codemirror_mode": {
    "name": "ipython",
    "version": 3
   },
   "file_extension": ".py",
   "mimetype": "text/x-python",
   "name": "python",
   "nbconvert_exporter": "python",
   "pygments_lexer": "ipython3",
   "version": "3.9.6"
  },
  "orig_nbformat": 4
 },
 "nbformat": 4,
 "nbformat_minor": 2
}
